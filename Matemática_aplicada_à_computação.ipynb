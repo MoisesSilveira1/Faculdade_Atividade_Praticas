{
  "nbformat": 4,
  "nbformat_minor": 0,
  "metadata": {
    "colab": {
      "provenance": [],
      "toc_visible": true,
      "collapsed_sections": [
        "cSPM1fDfza1q",
        "kXe4SCZt4bJS",
        "JOsJ84FBCNvc",
        "c8iQsOzR4b2y"
      ],
      "authorship_tag": "ABX9TyPEQmY+1Qn9mUvSVwaUIXY/",
      "include_colab_link": true
    },
    "kernelspec": {
      "name": "python3",
      "display_name": "Python 3"
    },
    "language_info": {
      "name": "python"
    }
  },
  "cells": [
    {
      "cell_type": "markdown",
      "metadata": {
        "id": "view-in-github",
        "colab_type": "text"
      },
      "source": [
        "<a href=\"https://colab.research.google.com/github/MoisesSilveira1/Faculdade_Atividade_Praticas/blob/main/Matem%C3%A1tica_aplicada_%C3%A0_computa%C3%A7%C3%A3o.ipynb\" target=\"_parent\"><img src=\"https://colab.research.google.com/assets/colab-badge.svg\" alt=\"Open In Colab\"/></a>"
      ]
    },
    {
      "cell_type": "markdown",
      "source": [
        "# NEGAÇÃO (~)\n"
      ],
      "metadata": {
        "id": "cSPM1fDfza1q"
      }
    },
    {
      "cell_type": "code",
      "source": [
        "idadeAna=32\n",
        "idadeBeatriz=29\n",
        "idadeAna<idadeBeatriz"
      ],
      "metadata": {
        "colab": {
          "base_uri": "https://localhost:8080/"
        },
        "id": "3ROUZQIhzjvD",
        "outputId": "58370818-0f96-40c0-f0fa-b0bdb95702f2"
      },
      "execution_count": null,
      "outputs": [
        {
          "output_type": "execute_result",
          "data": {
            "text/plain": [
              "False"
            ]
          },
          "metadata": {},
          "execution_count": 5
        }
      ]
    },
    {
      "cell_type": "code",
      "source": [
        "idadeAna=32\n",
        "idadeBeatriz=29\n",
        "idadeAna>=idadeBeatriz"
      ],
      "metadata": {
        "colab": {
          "base_uri": "https://localhost:8080/"
        },
        "id": "OlB1LAoS1vmN",
        "outputId": "677c6703-e2be-40c0-94bd-060011cac3ae"
      },
      "execution_count": null,
      "outputs": [
        {
          "output_type": "execute_result",
          "data": {
            "text/plain": [
              "True"
            ]
          },
          "metadata": {},
          "execution_count": 4
        }
      ]
    },
    {
      "cell_type": "code",
      "source": [
        "idadeAna=32\n",
        "idadeBeatriz=29\n",
        "not(idadeAna<idadeBeatriz)"
      ],
      "metadata": {
        "colab": {
          "base_uri": "https://localhost:8080/"
        },
        "id": "u6fY4NHq1uk3",
        "outputId": "cbfd8d5b-4da4-4045-bd5c-e427c0050533"
      },
      "execution_count": null,
      "outputs": [
        {
          "output_type": "execute_result",
          "data": {
            "text/plain": [
              "True"
            ]
          },
          "metadata": {},
          "execution_count": 6
        }
      ]
    },
    {
      "cell_type": "code",
      "source": [
        "p=True\n",
        "not(p)"
      ],
      "metadata": {
        "colab": {
          "base_uri": "https://localhost:8080/"
        },
        "id": "BaVIvrO717Nc",
        "outputId": "cacb8e47-5e73-43a4-cac0-35665e2086d3"
      },
      "execution_count": null,
      "outputs": [
        {
          "output_type": "execute_result",
          "data": {
            "text/plain": [
              "False"
            ]
          },
          "metadata": {},
          "execution_count": 7
        }
      ]
    },
    {
      "cell_type": "code",
      "source": [
        "M=80\n",
        "if M<70:\n",
        "  print('Reprovado')\n",
        "else:\n",
        "  print('Aprovado')"
      ],
      "metadata": {
        "colab": {
          "base_uri": "https://localhost:8080/"
        },
        "id": "QutUL7DJ2bAe",
        "outputId": "043e2656-ca1b-42e6-fee2-543de8af82ab"
      },
      "execution_count": null,
      "outputs": [
        {
          "output_type": "stream",
          "name": "stdout",
          "text": [
            "Aprovado\n"
          ]
        }
      ]
    },
    {
      "cell_type": "code",
      "source": [
        "M=float(input('Média obtida:'))\n",
        "if M<70:\n",
        "  print('Reprovado')\n",
        "else:\n",
        "  print('Aprovado')"
      ],
      "metadata": {
        "colab": {
          "base_uri": "https://localhost:8080/"
        },
        "id": "-TAoWBA63B2-",
        "outputId": "c8d39ea0-0491-47e9-c805-353ed415223c"
      },
      "execution_count": null,
      "outputs": [
        {
          "output_type": "stream",
          "name": "stdout",
          "text": [
            "Média obtida:40\n",
            "Reprovado\n"
          ]
        }
      ]
    },
    {
      "cell_type": "markdown",
      "source": [
        "# CONJUNÇÃO (∧)"
      ],
      "metadata": {
        "id": "kXe4SCZt4bJS"
      }
    },
    {
      "cell_type": "code",
      "source": [
        "M=float(input('Média obtida:'))\n",
        "F=float(input('Total de faltas:'))\n",
        "if M>=70 and F<=20:\n",
        "  print('Aprovado')\n",
        "else:\n",
        "    print('Reprovado')"
      ],
      "metadata": {
        "colab": {
          "base_uri": "https://localhost:8080/"
        },
        "id": "ZqGbwqXM4iEN",
        "outputId": "c8049c35-daf1-4e25-b309-dbc1e57ac620"
      },
      "execution_count": null,
      "outputs": [
        {
          "output_type": "stream",
          "name": "stdout",
          "text": [
            "Média obtida:70\n",
            "Total de faltas:5\n",
            "Aprovado\n"
          ]
        }
      ]
    },
    {
      "cell_type": "code",
      "source": [
        "APOL1=float(input('Nota a APOL 1:'))\n",
        "APOL2=float(input('Nota a APOL 2:'))\n",
        "AP=float(input('Nota da atividade Prática:'))\n",
        "PO=float(input('Nota da Prova Objetiva:'))\n",
        "M=0.15*APOL1+0.15*APOL2+0.4*AP+0.3*PO\n",
        "print(f'Média:{M:.0f}')\n",
        "if M<30:\n",
        "  print('Reprovado')\n",
        "elif M>=30 and M<67:\n",
        "  print('Em exame')\n",
        "elif M>=67 and M<70:\n",
        "  print('Aprovado por arredondamento')\n",
        "else:\n",
        "  print('Aprovado')"
      ],
      "metadata": {
        "colab": {
          "base_uri": "https://localhost:8080/"
        },
        "id": "5sNq5zO-9_-N",
        "outputId": "32162677-45a2-43ad-fd5d-fb5e032413e1"
      },
      "execution_count": null,
      "outputs": [
        {
          "output_type": "stream",
          "name": "stdout",
          "text": [
            "Nota a APOL 1:100\n",
            "Nota a APOL 2:70\n",
            "Nota da atividade Prática:100\n",
            "Nota da Prova Objetiva:70\n",
            "Média:86\n",
            "Aprovado\n"
          ]
        }
      ]
    },
    {
      "cell_type": "markdown",
      "source": [
        "#DISJUNÇÃO (∨)"
      ],
      "metadata": {
        "id": "JOsJ84FBCNvc"
      }
    },
    {
      "cell_type": "code",
      "source": [
        "RG=input('RG(s/n):')\n",
        "CPF=input('CPF(s/n):')\n",
        "if RG=='s' or CPF=='s':\n",
        "  print('Entrada liberada.')\n",
        "else:\n",
        "  print('Entrada não autorizada.')"
      ],
      "metadata": {
        "colab": {
          "base_uri": "https://localhost:8080/"
        },
        "id": "8Jizar2CC8jK",
        "outputId": "6ecc6db5-dd60-4b3c-f969-b1302142653d"
      },
      "execution_count": null,
      "outputs": [
        {
          "output_type": "stream",
          "name": "stdout",
          "text": [
            "RG(s/n):s\n",
            "CPF(s/n):n\n",
            "Entrada liberada.\n"
          ]
        }
      ]
    },
    {
      "cell_type": "markdown",
      "source": [
        "# EXERCÍCIO AULA 1"
      ],
      "metadata": {
        "id": "c8iQsOzR4b2y"
      }
    },
    {
      "cell_type": "code",
      "source": [
        "p=True\n",
        "q=True\n",
        "r=False\n",
        "p or q"
      ],
      "metadata": {
        "colab": {
          "base_uri": "https://localhost:8080/"
        },
        "id": "2vcle6z24uZq",
        "outputId": "33dc6d15-8271-45d4-94d4-7b36f7bc74fb"
      },
      "execution_count": null,
      "outputs": [
        {
          "output_type": "execute_result",
          "data": {
            "text/plain": [
              "True"
            ]
          },
          "metadata": {},
          "execution_count": 1
        }
      ]
    },
    {
      "cell_type": "code",
      "source": [
        "p=True\n",
        "q=True\n",
        "r=False\n",
        "p or r"
      ],
      "metadata": {
        "colab": {
          "base_uri": "https://localhost:8080/"
        },
        "id": "FbDLiac26Mxe",
        "outputId": "56780b56-4571-44c4-fdb5-b4731c64064c"
      },
      "execution_count": null,
      "outputs": [
        {
          "output_type": "execute_result",
          "data": {
            "text/plain": [
              "True"
            ]
          },
          "metadata": {},
          "execution_count": 2
        }
      ]
    },
    {
      "cell_type": "code",
      "source": [
        "p=True\n",
        "q=True\n",
        "r=False\n",
        "q and r"
      ],
      "metadata": {
        "colab": {
          "base_uri": "https://localhost:8080/"
        },
        "id": "BQp5i-rD6gNW",
        "outputId": "8e720e03-33a5-49f4-99c4-1db86e6e783c"
      },
      "execution_count": null,
      "outputs": [
        {
          "output_type": "execute_result",
          "data": {
            "text/plain": [
              "False"
            ]
          },
          "metadata": {},
          "execution_count": 4
        }
      ]
    },
    {
      "cell_type": "code",
      "source": [
        "p=True\n",
        "q=True\n",
        "r=False\n",
        "not(q and r)"
      ],
      "metadata": {
        "colab": {
          "base_uri": "https://localhost:8080/"
        },
        "id": "Rgvuc7Cp6prY",
        "outputId": "c63130f1-a8e2-4300-a926-42bf4c9bbc90"
      },
      "execution_count": null,
      "outputs": [
        {
          "output_type": "execute_result",
          "data": {
            "text/plain": [
              "True"
            ]
          },
          "metadata": {},
          "execution_count": 5
        }
      ]
    },
    {
      "cell_type": "code",
      "source": [
        "p=True\n",
        "q=True\n",
        "r=False\n",
        "q or r"
      ],
      "metadata": {
        "colab": {
          "base_uri": "https://localhost:8080/"
        },
        "id": "SH8HsO-_65By",
        "outputId": "6547569a-a78d-4906-91d6-7b9260cbf32b"
      },
      "execution_count": null,
      "outputs": [
        {
          "output_type": "execute_result",
          "data": {
            "text/plain": [
              "True"
            ]
          },
          "metadata": {},
          "execution_count": 6
        }
      ]
    },
    {
      "cell_type": "code",
      "source": [
        "p=True\n",
        "q=True\n",
        "r=False\n",
        "not(p)"
      ],
      "metadata": {
        "colab": {
          "base_uri": "https://localhost:8080/"
        },
        "id": "bx-XvG0c7Csz",
        "outputId": "c68c9ec0-1421-42ea-9689-ebe49c7aae47"
      },
      "execution_count": null,
      "outputs": [
        {
          "output_type": "execute_result",
          "data": {
            "text/plain": [
              "False"
            ]
          },
          "metadata": {},
          "execution_count": 7
        }
      ]
    },
    {
      "cell_type": "code",
      "source": [
        "p=True\n",
        "q=True\n",
        "r=False\n",
        "not(p and r)"
      ],
      "metadata": {
        "colab": {
          "base_uri": "https://localhost:8080/"
        },
        "id": "kED5KT917Kgo",
        "outputId": "feb05504-529f-49fc-dbe8-350daf7e9135"
      },
      "execution_count": null,
      "outputs": [
        {
          "output_type": "execute_result",
          "data": {
            "text/plain": [
              "True"
            ]
          },
          "metadata": {},
          "execution_count": 8
        }
      ]
    },
    {
      "cell_type": "code",
      "source": [
        "Senha=input('Digite a senha:')\n",
        "if Senha=='705080':\n",
        "  print('Entrada Liberada.')\n",
        "else:\n",
        "  print('Entrada não autorizada.')"
      ],
      "metadata": {
        "colab": {
          "base_uri": "https://localhost:8080/"
        },
        "id": "1ZKr7-ol7WHh",
        "outputId": "876e98f8-3334-4b48-d4fc-20db75fc38e2"
      },
      "execution_count": null,
      "outputs": [
        {
          "output_type": "stream",
          "name": "stdout",
          "text": [
            "Digite a senha:705080\n",
            "Entrada Liberada.\n"
          ]
        }
      ]
    },
    {
      "cell_type": "code",
      "source": [
        "R=float(input('Renda mensal líquida:'))\n",
        "F=float(input('Financiamento ou empréstimos:'))\n",
        "if R>=8500 and F<=0.2*R:\n",
        "  print('Financiamento aprovado')\n",
        "else:\n",
        "  print('Financiamento NÃO aprovado')"
      ],
      "metadata": {
        "colab": {
          "base_uri": "https://localhost:8080/"
        },
        "id": "PA23NT198WPt",
        "outputId": "03deda4d-d23c-48ee-f5ef-e126776da655"
      },
      "execution_count": null,
      "outputs": [
        {
          "output_type": "stream",
          "name": "stdout",
          "text": [
            "Renda mensal líquida:10000\n",
            "Financiamento ou empréstimos:2000\n",
            "Financiamento aprovado\n"
          ]
        }
      ]
    },
    {
      "cell_type": "code",
      "source": [
        "A1=float(input('Nota da primeira atividade prática:'))\n",
        "A2=float(input('Nota da segunda atividade prática:'))\n",
        "P=float(input('Nota da prova objetiva:'))\n",
        "N=0.2*A1+0.3*A2+0.5*P\n",
        "print(f'Nota da disciplina: {N:.1f}')\n",
        "if N<30:\n",
        "  print('Reprovado')\n",
        "elif N>=30 and N<70:\n",
        "  print('Em exame')\n",
        "else:\n",
        "  print('Aprovado')"
      ],
      "metadata": {
        "colab": {
          "base_uri": "https://localhost:8080/"
        },
        "id": "OiHhy_3R-S0W",
        "outputId": "a15c8737-c5d7-4da8-ccf6-3c8ce2492492"
      },
      "execution_count": null,
      "outputs": [
        {
          "output_type": "stream",
          "name": "stdout",
          "text": [
            "Nota da primeira atividade prática:80\n",
            "Nota da segunda atividade prática:100\n",
            "Nota da prova objetiva:75\n",
            "Nota da disciplina: 83.5\n",
            "Aprovado\n"
          ]
        }
      ]
    },
    {
      "cell_type": "code",
      "source": [
        "Senha=input('Digite a senha:')\n",
        "if Senha=='705080' or Senha=='999999':\n",
        "  print('Entrada Liberada.')\n",
        "else:\n",
        "  print('Entrada não autorizada.')"
      ],
      "metadata": {
        "colab": {
          "base_uri": "https://localhost:8080/"
        },
        "id": "wdf_MlS2AkPq",
        "outputId": "41966e58-7c7e-4f12-f203-9922a69f5b22"
      },
      "execution_count": null,
      "outputs": [
        {
          "output_type": "stream",
          "name": "stdout",
          "text": [
            "Digite a senha:5555\n",
            "Entrada não autorizada.\n"
          ]
        }
      ]
    },
    {
      "cell_type": "code",
      "source": [],
      "metadata": {
        "id": "c1_LrMP4BY2u"
      },
      "execution_count": null,
      "outputs": []
    },
    {
      "cell_type": "markdown",
      "source": [],
      "metadata": {
        "id": "yRA3AsQzpo3S"
      }
    },
    {
      "cell_type": "markdown",
      "source": [
        "# EXERCÍCIO AULA 2"
      ],
      "metadata": {
        "id": "K6cJqfvWpujP"
      }
    },
    {
      "cell_type": "code",
      "source": [],
      "metadata": {
        "id": "EKcaAsr8qkof"
      },
      "execution_count": 1,
      "outputs": []
    },
    {
      "cell_type": "markdown",
      "source": [
        "# EXERCÍCIO AULA4\n"
      ],
      "metadata": {
        "id": "hc5yjYtMkxs7"
      }
    },
    {
      "cell_type": "code",
      "source": [
        "import numpy as np\n",
        "C=np.linspace(-10, 20, 31)\n",
        "print(C)\n",
        "-1 in C"
      ],
      "metadata": {
        "id": "VxWR-SPbqCnI",
        "colab": {
          "base_uri": "https://localhost:8080/"
        },
        "outputId": "25ac803a-1dac-4a2d-95ac-4f295f6404d4"
      },
      "execution_count": null,
      "outputs": [
        {
          "output_type": "stream",
          "name": "stdout",
          "text": [
            "[-10.  -9.  -8.  -7.  -6.  -5.  -4.  -3.  -2.  -1.   0.   1.   2.   3.\n",
            "   4.   5.   6.   7.   8.   9.  10.  11.  12.  13.  14.  15.  16.  17.\n",
            "  18.  19.  20.]\n"
          ]
        },
        {
          "output_type": "execute_result",
          "data": {
            "text/plain": [
              "True"
            ]
          },
          "metadata": {},
          "execution_count": 3
        }
      ]
    },
    {
      "cell_type": "code",
      "source": [
        "S=[100, 112, 120, 130, 136, 151, 180, 200, 240, 260, 300, 350, 380, 415, 465, 510, 540, 545, 622, 678, 724, 788, 880, 937, 954, 998, 1039, 1045, 1100, 1212]\n",
        "350 in S"
      ],
      "metadata": {
        "colab": {
          "base_uri": "https://localhost:8080/"
        },
        "id": "WjPtt6solwX8",
        "outputId": "76bcdf35-d334-4c41-e240-479882fbc11d"
      },
      "execution_count": null,
      "outputs": [
        {
          "output_type": "execute_result",
          "data": {
            "text/plain": [
              "True"
            ]
          },
          "metadata": {},
          "execution_count": 4
        }
      ]
    },
    {
      "cell_type": "code",
      "source": [
        "S=['452012', '323233', '787910', '528917','683524']\n",
        "Senha=input('Digite a senha:')\n",
        "if Senha in S:\n",
        "  print('Entrada liberada.')\n",
        "else:\n",
        "  print('Entrada não autorizada.')"
      ],
      "metadata": {
        "colab": {
          "base_uri": "https://localhost:8080/"
        },
        "id": "0rO7ZTtbnZ5L",
        "outputId": "985c2354-47b3-4e08-e2da-5931d77fa16b"
      },
      "execution_count": null,
      "outputs": [
        {
          "output_type": "stream",
          "name": "stdout",
          "text": [
            "Digite a senha:22222222\n",
            "Entrada não autorizada.\n"
          ]
        }
      ]
    },
    {
      "cell_type": "code",
      "source": [
        "import numpy as np\n",
        "v=np.array([[1210, 897, 1230, 1495, 799, 890, 1010]])\n",
        "w=0.8*v\n",
        "print(w)"
      ],
      "metadata": {
        "colab": {
          "base_uri": "https://localhost:8080/"
        },
        "id": "jtIQfPqwqqR-",
        "outputId": "94309e44-25f3-49f7-bb00-2f581bb86dc2"
      },
      "execution_count": null,
      "outputs": [
        {
          "output_type": "stream",
          "name": "stdout",
          "text": [
            "[[ 968.   717.6  984.  1196.   639.2  712.   808. ]]\n"
          ]
        }
      ]
    }
  ]
}