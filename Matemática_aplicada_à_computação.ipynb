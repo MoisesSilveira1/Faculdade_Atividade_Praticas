{
  "nbformat": 4,
  "nbformat_minor": 0,
  "metadata": {
    "colab": {
      "provenance": [],
      "toc_visible": true,
      "authorship_tag": "ABX9TyNHSuczKXEJe89mRVtMH5th",
      "include_colab_link": true
    },
    "kernelspec": {
      "name": "python3",
      "display_name": "Python 3"
    },
    "language_info": {
      "name": "python"
    }
  },
  "cells": [
    {
      "cell_type": "markdown",
      "metadata": {
        "id": "view-in-github",
        "colab_type": "text"
      },
      "source": [
        "<a href=\"https://colab.research.google.com/github/MoisesSilveira1/Faculdade_Atividade_Praticas/blob/main/Matem%C3%A1tica_aplicada_%C3%A0_computa%C3%A7%C3%A3o.ipynb\" target=\"_parent\"><img src=\"https://colab.research.google.com/assets/colab-badge.svg\" alt=\"Open In Colab\"/></a>"
      ]
    },
    {
      "cell_type": "markdown",
      "source": [
        "# NEGAÇÃO (~)\n"
      ],
      "metadata": {
        "id": "cSPM1fDfza1q"
      }
    },
    {
      "cell_type": "code",
      "source": [
        "idadeAna=32\n",
        "idadeBeatriz=29\n",
        "idadeAna<idadeBeatriz"
      ],
      "metadata": {
        "colab": {
          "base_uri": "https://localhost:8080/"
        },
        "id": "3ROUZQIhzjvD",
        "outputId": "58370818-0f96-40c0-f0fa-b0bdb95702f2"
      },
      "execution_count": 5,
      "outputs": [
        {
          "output_type": "execute_result",
          "data": {
            "text/plain": [
              "False"
            ]
          },
          "metadata": {},
          "execution_count": 5
        }
      ]
    },
    {
      "cell_type": "code",
      "source": [
        "idadeAna=32\n",
        "idadeBeatriz=29\n",
        "idadeAna>=idadeBeatriz"
      ],
      "metadata": {
        "colab": {
          "base_uri": "https://localhost:8080/"
        },
        "id": "OlB1LAoS1vmN",
        "outputId": "677c6703-e2be-40c0-94bd-060011cac3ae"
      },
      "execution_count": 4,
      "outputs": [
        {
          "output_type": "execute_result",
          "data": {
            "text/plain": [
              "True"
            ]
          },
          "metadata": {},
          "execution_count": 4
        }
      ]
    },
    {
      "cell_type": "code",
      "source": [
        "idadeAna=32\n",
        "idadeBeatriz=29\n",
        "not(idadeAna<idadeBeatriz)"
      ],
      "metadata": {
        "colab": {
          "base_uri": "https://localhost:8080/"
        },
        "id": "u6fY4NHq1uk3",
        "outputId": "cbfd8d5b-4da4-4045-bd5c-e427c0050533"
      },
      "execution_count": 6,
      "outputs": [
        {
          "output_type": "execute_result",
          "data": {
            "text/plain": [
              "True"
            ]
          },
          "metadata": {},
          "execution_count": 6
        }
      ]
    },
    {
      "cell_type": "code",
      "source": [
        "p=True\n",
        "not(p)"
      ],
      "metadata": {
        "colab": {
          "base_uri": "https://localhost:8080/"
        },
        "id": "BaVIvrO717Nc",
        "outputId": "cacb8e47-5e73-43a4-cac0-35665e2086d3"
      },
      "execution_count": 7,
      "outputs": [
        {
          "output_type": "execute_result",
          "data": {
            "text/plain": [
              "False"
            ]
          },
          "metadata": {},
          "execution_count": 7
        }
      ]
    },
    {
      "cell_type": "code",
      "source": [
        "M=80\n",
        "if M<70:\n",
        "  print('Reprovado')\n",
        "else:\n",
        "  print('Aprovado')"
      ],
      "metadata": {
        "colab": {
          "base_uri": "https://localhost:8080/"
        },
        "id": "QutUL7DJ2bAe",
        "outputId": "043e2656-ca1b-42e6-fee2-543de8af82ab"
      },
      "execution_count": 8,
      "outputs": [
        {
          "output_type": "stream",
          "name": "stdout",
          "text": [
            "Aprovado\n"
          ]
        }
      ]
    },
    {
      "cell_type": "code",
      "source": [
        "M=float(input('Média obtida:'))\n",
        "if M<70:\n",
        "  print('Reprovado')\n",
        "else:\n",
        "  print('Aprovado')"
      ],
      "metadata": {
        "colab": {
          "base_uri": "https://localhost:8080/"
        },
        "id": "-TAoWBA63B2-",
        "outputId": "c8d39ea0-0491-47e9-c805-353ed415223c"
      },
      "execution_count": 9,
      "outputs": [
        {
          "output_type": "stream",
          "name": "stdout",
          "text": [
            "Média obtida:40\n",
            "Reprovado\n"
          ]
        }
      ]
    },
    {
      "cell_type": "markdown",
      "source": [
        "# CONJUNÇÃO (∧)"
      ],
      "metadata": {
        "id": "kXe4SCZt4bJS"
      }
    },
    {
      "cell_type": "code",
      "source": [
        "M=float(input('Média obtida:'))\n",
        "F=float(input('Total de faltas:'))\n",
        "if M>=70 and F<=20:\n",
        "  print('Aprovado')\n",
        "else:\n",
        "    print('Reprovado')"
      ],
      "metadata": {
        "colab": {
          "base_uri": "https://localhost:8080/"
        },
        "id": "ZqGbwqXM4iEN",
        "outputId": "c8049c35-daf1-4e25-b309-dbc1e57ac620"
      },
      "execution_count": 11,
      "outputs": [
        {
          "output_type": "stream",
          "name": "stdout",
          "text": [
            "Média obtida:70\n",
            "Total de faltas:5\n",
            "Aprovado\n"
          ]
        }
      ]
    },
    {
      "cell_type": "code",
      "source": [
        "APOL1=float(input('Nota a APOL 1:'))\n",
        "APOL2=float(input('Nota a APOL 2:'))\n",
        "AP=float(input('Nota da atividade Prática:'))\n",
        "PO=float(input('Nota da Prova Objetiva:'))\n",
        "M=0.15*APOL1+0.15*APOL2+0.4*AP+0.3*PO\n",
        "print(f'Média:{M:.0f}')\n",
        "if M<30:\n",
        "  print('Reprovado')\n",
        "elif M>=30 and M<67:\n",
        "  print('Em exame')\n",
        "elif M>=67 and M<70:\n",
        "  print('Aprovado por arredondamento')\n",
        "else:\n",
        "  print('Aprovado')"
      ],
      "metadata": {
        "colab": {
          "base_uri": "https://localhost:8080/"
        },
        "id": "5sNq5zO-9_-N",
        "outputId": "32162677-45a2-43ad-fd5d-fb5e032413e1"
      },
      "execution_count": 14,
      "outputs": [
        {
          "output_type": "stream",
          "name": "stdout",
          "text": [
            "Nota a APOL 1:100\n",
            "Nota a APOL 2:70\n",
            "Nota da atividade Prática:100\n",
            "Nota da Prova Objetiva:70\n",
            "Média:86\n",
            "Aprovado\n"
          ]
        }
      ]
    },
    {
      "cell_type": "markdown",
      "source": [
        "#DISJUNÇÃO (∨)"
      ],
      "metadata": {
        "id": "JOsJ84FBCNvc"
      }
    },
    {
      "cell_type": "code",
      "source": [
        "RG=input('RG(s/n):')\n",
        "CPF=input('CPF(s/n):')\n",
        "if RG=='s' or CPF=='s':\n",
        "  print('Entrada liberada.')\n",
        "else:\n",
        "  print('Entrada não autorizada.')"
      ],
      "metadata": {
        "colab": {
          "base_uri": "https://localhost:8080/"
        },
        "id": "8Jizar2CC8jK",
        "outputId": "6ecc6db5-dd60-4b3c-f969-b1302142653d"
      },
      "execution_count": 15,
      "outputs": [
        {
          "output_type": "stream",
          "name": "stdout",
          "text": [
            "RG(s/n):s\n",
            "CPF(s/n):n\n",
            "Entrada liberada.\n"
          ]
        }
      ]
    }
  ]
}