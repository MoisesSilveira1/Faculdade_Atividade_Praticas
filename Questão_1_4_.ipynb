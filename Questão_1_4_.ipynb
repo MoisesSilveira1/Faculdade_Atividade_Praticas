{
  "cells": [
    {
      "cell_type": "markdown",
      "metadata": {
        "id": "view-in-github",
        "colab_type": "text"
      },
      "source": [
        "<a href=\"https://colab.research.google.com/github/MoisesSilveira1/Faculdade_Atividade_Praticas/blob/main/Quest%C3%A3o_1_4_.ipynb\" target=\"_parent\"><img src=\"https://colab.research.google.com/assets/colab-badge.svg\" alt=\"Open In Colab\"/></a>"
      ]
    },
    {
      "cell_type": "markdown",
      "metadata": {
        "id": "TcAMTDyTlIIu"
      },
      "source": [
        "# 1° exercício da atividade prática.\n"
      ]
    },
    {
      "cell_type": "code",
      "execution_count": null,
      "metadata": {
        "colab": {
          "base_uri": "https://localhost:8080/"
        },
        "id": "KdNewgVShv9h",
        "outputId": "2cc2c97f-6acd-43a8-af84-6c2040e476e2"
      },
      "outputs": [
        {
          "name": "stdout",
          "output_type": "stream",
          "text": [
            "Bem-vindo a loja do Moisés Silveira\n",
            "Entre com o valor desejado: 10\n",
            "entre com a quantidade desejada:150\n",
            "O valor total SEM desconto é de: R$ 1500.00\n",
            "O valor total COM desconto é de: R$ 1350.00\n"
          ]
        }
      ],
      "source": [
        "print(\"Bem-vindo a loja do Moisés Silveira\")\n",
        "Valor_Produto = float(input(\"Entre com o valor desejado: \"))\n",
        "Quantidade_Produto = int(input('entre com a quantidade desejada:'))\n",
        "\n",
        "#teste em cima da variável quantidade.\n",
        "\n",
        "Desconto_Produto = 0\n",
        "if Quantidade_Produto <=10: # Outra maneira if Quantidade_Produto < 5:\n",
        "  Desconto_Produto  = 0.00\n",
        "  #elif Quantidade_Produto>=10 and 99 Quantidade_Produto < 99:\n",
        "elif 10 <= Quantidade_Produto < 99:\n",
        "  Desconto_Produto  = 0.05 # 5% = 0.05 | 100% = 1\n",
        "  #elif Quantidade_Produto>=100 and 999 Quantidade_Produto < 99:\n",
        "elif 100 <= Quantidade_Produto < 999:\n",
        "  Desconto_Produto  = 0.10 # 10% = 0.10 | 100% = 1\n",
        "else:\n",
        "  Desconto_Produto  = 0.15 # 15% = 0.15 | 100% = 1\n",
        "O_valor_sem_desconto = Valor_Produto * Quantidade_Produto\n",
        "print('O valor total SEM desconto é de: R$ {:.2f}'.format(O_valor_sem_desconto))\n",
        "O_valor_com_desconto = O_valor_sem_desconto - O_valor_sem_desconto * Desconto_Produto \n",
        "print('O valor total COM desconto é de: R$ {:.2f}'.format(O_valor_com_desconto))\n"
      ]
    },
    {
      "cell_type": "markdown",
      "metadata": {
        "id": "DWzdDZ2IiUdM"
      },
      "source": [
        "#2° exercício da atividade prática.\n",
        "\n"
      ]
    },
    {
      "cell_type": "code",
      "execution_count": null,
      "metadata": {
        "colab": {
          "base_uri": "https://localhost:8080/"
        },
        "id": "puVFNrlKF945",
        "outputId": "8d24dd92-9b19-4cd8-ba65-666e24fcb702"
      },
      "outputs": [
        {
          "name": "stdout",
          "output_type": "stream",
          "text": [
            "*Bem vindo a lanchonete do Moisés Silveira*\n",
            "*****************Cardápio******************\n",
            "Código  |         Descrição        |  Valor\n",
            "  100   |  Cachorro Quente         |   9.00\n",
            "  101   |  Cachorro Quente Duplo   |  11.00\n",
            "  102   |  X-Egg                   |  12.00\n",
            "  103   |  X-Salada                |  12.00\n",
            "  104   |  X-Bacon                 |  14.00\n",
            "  105   |  X-Tudo                  |  17.00\n",
            "  200   |  Refrigerante Lata       |   5.00\n",
            "  201   |  Chá Gelado              |   4.00\n",
            "*******************************************\n",
            "Entre com o Código desejado: 100\n",
            "Você pediu um Cachorro Quente no valor de 9.00\n",
            "Deseja pedir mais alguma coisa?\n",
            "1 - Sim\n",
            "0 - Não\n",
            ">> 1\n",
            "Entre com o Código desejado: 300\n",
            "Opção Inválida\n",
            "Entre com o Código desejado: 201\n",
            "Você pediu um Chá Gelado no valor de 4.00\n",
            "Deseja pedir mais alguma coisa?\n",
            "1 - Sim\n",
            "0 - Não\n",
            ">> 0\n",
            "O total a ser pago é: 13.00\n"
          ]
        }
      ],
      "source": [
        "# Imprime a mensagem de boas-vindas e o cabeçalho do cardápio\n",
        "print(\"*Bem vindo a lanchonete do Moisés Silveira*\")\n",
        "print(\"*****************Cardápio******************\")\n",
        "print(\"Código  |         Descrição        |  Valor\")\n",
        "print(\"  100   |  Cachorro Quente         |   9.00\")\n",
        "print(\"  101   |  Cachorro Quente Duplo   |  11.00\")\n",
        "print(\"  102   |  X-Egg                   |  12.00\")\n",
        "print(\"  103   |  X-Salada                |  12.00\")\n",
        "print(\"  104   |  X-Bacon                 |  14.00\")\n",
        "print(\"  105   |  X-Tudo                  |  17.00\")\n",
        "print(\"  200   |  Refrigerante Lata       |   5.00\")\n",
        "print(\"  201   |  Chá Gelado              |   4.00\")\n",
        "print(\"*******************************************\")\n",
        "# Variável para armazenar o total da compra\n",
        "total = 0\n",
        "# Loop principal para fazer os pedidos\n",
        "while True:\n",
        "   # Solicita ao usuário que digite o código do produto desejado\n",
        "    codigo = int(input(\"Entre com o Código desejado: \"))\n",
        "    # Verifica se o usuário deseja sair\n",
        "    if codigo == 0:\n",
        "        break\n",
        "    # Verifica se o código do produto é válido\n",
        "    elif codigo not in [100, 101, 102, 103, 104, 105, 200, 201]:\n",
        "        print(\"Opção Inválida\")\n",
        "        continue\n",
        "    # Associa o código do produto à sua descrição e valor correspondentes\n",
        "    if codigo == 100:\n",
        "        descricao = \"Cachorro Quente\"\n",
        "        valor = 9.00\n",
        "    elif codigo == 101:\n",
        "        descricao = \"Cachorro Quente Duplo\"\n",
        "        valor = 11.00\n",
        "    elif codigo == 102:\n",
        "        descricao = \"X-Egg\"\n",
        "        valor = 12.00\n",
        "    elif codigo == 103:\n",
        "        descricao = \"X-Salada\"\n",
        "        valor = 12.00\n",
        "    elif codigo == 104:\n",
        "        descricao = \"X-Bacon\"\n",
        "        valor = 14.00\n",
        "    elif codigo == 105:\n",
        "        descricao = \"X-Tudo\"\n",
        "        valor = 17.00\n",
        "    elif codigo == 200:\n",
        "        descricao = \"Refrigerante Lata\"\n",
        "        valor = 5.00\n",
        "    elif codigo == 201:\n",
        "        descricao = \"Chá Gelado\"\n",
        "        valor = 4.00\n",
        "    # Exibe a mensagem informando o que foi pedido\n",
        "    print(f\"Você pediu um {descricao} no valor de {valor:.2f}\")\n",
        "    # Adiciona o valor do produto ao total da compra\n",
        "    total += valor\n",
        "    # Solicita ao usuário se deseja pedir mais alguma coisa\n",
        "    opcao = int(input(\"Deseja pedir mais alguma coisa?\\n1 - Sim\\n0 - Não\\n>> \"))\n",
        "    # Verifica a opção escolhida pelo usuário\n",
        "    if opcao == 0:\n",
        "        break\n",
        "    elif opcao != 1:\n",
        "        print(\"Opção Inválida\")\n",
        "        break\n",
        "# Exibe o total a ser pago\n",
        "print(f\"O total a ser pago é: {total:.2f}\")"
      ]
    },
    {
      "cell_type": "markdown",
      "metadata": {
        "id": "B8In9eDwjIAk"
      },
      "source": [
        "#3° exercício da atividade prática."
      ]
    },
    {
      "cell_type": "code",
      "source": [
        "#início da função Dimensões()  \n",
        "def dimensoesObjeto(): # Função para obter as dimensões do objeto\n",
        "    while True: # Pergunta ao usuário a altura, comprimento e largura do objeto\n",
        "        try:\n",
        "            altura = int(input(\"Digite a altura do objeto (em cm): \"))\n",
        "            comprimento = int(input(\"Digite o comprimento do objeto (em cm): \"))\n",
        "            largura = int(input(\"Digite a largura do objeto (em cm): \"))\n",
        "            volume = altura * comprimento * largura\n",
        "            print(f\"O volume do objeto é (em cm³): {volume}\") # Retorna/culcula o valor em cm³ conforme a tabela \n",
        "            if volume < 1000:  # Verifica se os valores são numéricos e estão dentro do limite aceito\n",
        "                return 10\n",
        "            elif 1000 <= volume < 10000:\n",
        "                return 20\n",
        "            elif 10000 <= volume < 30000:\n",
        "                return 30\n",
        "            elif 30000 <= volume < 100000:\n",
        "                return 50 # Retorna o valor do volume do objeto de acordo \n",
        "            else:\n",
        "                print(\"Não aceitamos objetos com dimensões tão grandes.\")\n",
        "                print(\"Entren com as dimensões desejadas novamente\")\n",
        "                continue  #volta para o início/retorna para a pergunta do while True\n",
        "        except ValueError:\n",
        "            print(\"Você digitou alguma dimensão do objeto com valor não numérico.\")\n",
        "            print(\"Por favor, entre com as dimensões desejadas novamente.\")\n",
        "#fim da função Dimensão()\n",
        "\n",
        "#início da função Peso()         \n",
        "def pesoObjeto():# Função para obter o peso do objeto\n",
        "    while True:# Pergunta ao usuário o peso do objeto\n",
        "        try:\n",
        "            peso = float(input(\"Digite o peso do objeto (em kg): \"))\n",
        "            \n",
        "            if peso <= 0.1:\n",
        "                return 1\n",
        "            elif 0.1 <= peso < 1:\n",
        "                return 1.5\n",
        "            elif 1 <= peso < 10:\n",
        "                return 2\n",
        "            elif 10 <= peso < 30:\n",
        "                return 3\n",
        "            else:\n",
        "                print(\"Não aceitamos objetos tão pesados.\")\n",
        "                print(\"Entren com as peso desejadas novamente\")\n",
        "                continue  #volta para o início/retorna para a pergunta do while True\n",
        "        except ValueError:\n",
        "            print(\"Você digitou alguma dimensão do peso com valor não numérico.\")\n",
        "            print(\"Por favor, entre com as peso desejadas novamente.\")\n",
        "#fim da função Peso()\n",
        "\n",
        "#início da função Rota()            \n",
        "def rotaObjeto(): # Função para obter a rota do objeto\n",
        "    while True:# Pergunta ao usuário a rota desejada\n",
        "        rota = input(\"Selecione a rota:\\n\"\n",
        "                     \"RS - De Rio de Janeiro até São Paulo\\n\"\n",
        "                     \"SR - De São Paulo até Rio de Janeiro\\n\"\n",
        "                     \"BS - De Brasília até São Paulo\\n\"\n",
        "                     \"SB - De São Paulo até Brasília\\n\"\n",
        "                     \"BR - De Brasília até Rio de Janeiro\\n\"\n",
        "                     \"RB - Rio de Janeiro até Brasília\\n\"\n",
        "                     \">> \")\n",
        "        \n",
        "        if rota == \"RS\" or rota == \"SR\":\n",
        "            return 1\n",
        "        elif rota == \"BS\" or rota == \"SB\":\n",
        "            return 1.2\n",
        "        elif rota == \"BR\" or rota == \"RB\":\n",
        "            return 1.5\n",
        "        else:\n",
        "            print(\"Você digitou uma rota que não existe.\")\n",
        "            continue  #volta para o início/retorna para a pergunta do while True\n",
        "#fim da função Rota()\n",
        "\n",
        "#início do Main\n",
        "print(\"Bem-vindo à Companhia de Logística MOisés Silveira!\")\n",
        "\n",
        "valor_dimensoes = dimensoesObjeto()\n",
        "valor_peso = pesoObjeto()\n",
        "valor_rota = rotaObjeto()\n",
        "\n",
        "total = valor_dimensoes * valor_peso * valor_rota\n",
        "\n",
        "print(\"Total a pagar: R$ {:.2f} (dimensões: {:.2f} * peso: {:.2f} * rota: {:.2f})\" . format (total,valor_dimensoes,valor_peso,valor_rota))\n",
        "#Fim do Main"
      ],
      "metadata": {
        "colab": {
          "base_uri": "https://localhost:8080/"
        },
        "id": "wKuJi7a1pkWc",
        "outputId": "6c5b3565-1381-44ef-bc29-442eb326c05e"
      },
      "execution_count": 39,
      "outputs": [
        {
          "output_type": "stream",
          "name": "stdout",
          "text": [
            "Bem-vindo à Companhia de Logística MOisés Silveira!\n",
            "Digite a altura do objeto (em cm): k\n",
            "Você digitou alguma dimensão do objeto com valor não numérico.\n",
            "Por favor, entre com as dimensões desejadas novamente.\n",
            "Digite a altura do objeto (em cm): 100\n",
            "Digite o comprimento do objeto (em cm): 100\n",
            "Digite a largura do objeto (em cm): 100\n",
            "O volume do objeto é (em cm³): 1000000\n",
            "Não aceitamos objetos com dimensões tão grandes.\n",
            "Entren com as dimensões desejadas novamente\n",
            "Digite a altura do objeto (em cm): 10\n",
            "Digite o comprimento do objeto (em cm): 10\n",
            "Digite a largura do objeto (em cm): 10\n",
            "O volume do objeto é (em cm³): 1000\n",
            "Digite o peso do objeto (em kg): 10000\n",
            "Não aceitamos objetos tão pesados.\n",
            "Entren com as peso desejadas novamente\n",
            "Digite o peso do objeto (em kg): 10\n",
            "Selecione a rota:\n",
            "RS - De Rio de Janeiro até São Paulo\n",
            "SR - De São Paulo até Rio de Janeiro\n",
            "BS - De Brasília até São Paulo\n",
            "SB - De São Paulo até Brasília\n",
            "BR - De Brasília até Rio de Janeiro\n",
            "RB - Rio de Janeiro até Brasília\n",
            ">> sd\n",
            "Você digitou uma rota que não existe.\n",
            "Selecione a rota:\n",
            "RS - De Rio de Janeiro até São Paulo\n",
            "SR - De São Paulo até Rio de Janeiro\n",
            "BS - De Brasília até São Paulo\n",
            "SB - De São Paulo até Brasília\n",
            "BR - De Brasília até Rio de Janeiro\n",
            "RB - Rio de Janeiro até Brasília\n",
            ">> BR\n",
            "Total a pagar: R$ 90.00 (dimensões: 20.00 * peso: 3.00 * rota: 1.50)\n"
          ]
        }
      ]
    },
    {
      "cell_type": "markdown",
      "source": [
        "# 4° exercício da atividade prática."
      ],
      "metadata": {
        "id": "KL-f45QkpgcA"
      }
    },
    {
      "cell_type": "code",
      "source": [
        "print(\"Bem-vindo ao controle da Bicicletaria do Moisés Silveira\")\n",
        "def cadastrarPeca(codigo):\n",
        "    peca = {}\n",
        "    peca[\"nome\"] = input(\"Digite o nome da peça: \")\n",
        "    peca[\"fabricante\"] = input(\"Digite o fabricante da peça: \")\n",
        "    peca[\"valor\"] = float(input(\"Digite o valor da peça: \"))\n",
        "    return peca\n",
        "\n",
        "def consultarPeca():\n",
        "    opcao = 0\n",
        "    while opcao != 4:\n",
        "        print(\"Menu de Consulta de Peças:\")\n",
        "        print(\"1. Consultar Todas as Peças\")\n",
        "        print(\"2. Consultar Peças por Código\")\n",
        "        print(\"3. Consultar Peças por Fabricante\")\n",
        "        print(\"4. Retornar\")\n",
        "        opcao = int(input(\"Digite a opção desejada: \"))\n",
        "        \n",
        "        if opcao == 1:\n",
        "            print(\"Consulta Todas as Peças\")\n",
        "            for peca in estoque:\n",
        "                print(peca)\n",
        "        elif opcao == 2:\n",
        "            codigo = int(input(\"Digite o código da peça: \"))\n",
        "            for peca in estoque:\n",
        "                if peca[\"codigo\"] == codigo:\n",
        "                    print(peca)\n",
        "                    break\n",
        "            else:\n",
        "                print(\"Peça não encontrada.\")\n",
        "        elif opcao == 3:\n",
        "            fabricante = input(\"Digite o fabricante da peça: \")\n",
        "            encontrou = False\n",
        "            for peca in estoque:\n",
        "                if peca[\"fabricante\"].lower() == fabricante.lower():\n",
        "                    print(peca)\n",
        "                    encontrou = True\n",
        "            if not encontrou:\n",
        "                print(\"Peças do fabricante não encontradas.\")\n",
        "        elif opcao == 4:\n",
        "            print(\"Retornando ao menu principal...\")\n",
        "        else:\n",
        "            print(\"Opção inválida. Por favor, tente novamente.\")\n",
        "\n",
        "def removerPeca():\n",
        "    codigo = int(input(\"Digite o código da peça que deseja remover: \"))\n",
        "    for peca in estoque:\n",
        "        if peca[\"codigo\"] == codigo:\n",
        "            estoque.remove(peca)\n",
        "            print(\"Peça removida com sucesso.\")\n",
        "            break\n",
        "    else:\n",
        "        print(\"Peça não encontrada.\")\n",
        "\n",
        "estoque = []\n",
        "opcao = 0\n",
        "\n",
        "while opcao != 4:\n",
        "    print(\"Menu Principal:\")\n",
        "    print(\"1. Cadastrar Peça\")\n",
        "    print(\"2. Consultar Peça\")\n",
        "    print(\"3. Remover Peça\")\n",
        "    print(\"4. Sair\")\n",
        "    opcao = int(input(\"Digite a opção desejada: \"))\n",
        "    \n",
        "    if opcao == 1:\n",
        "        codigo = len(estoque) + 1\n",
        "        peca = cadastrarPeca(codigo)\n",
        "        peca[\"codigo\"] = codigo\n",
        "        estoque.append(peca)\n",
        "        print(\"Peça cadastrada com sucesso.\")\n",
        "    elif opcao == 2:\n",
        "        consultarPeca()\n",
        "    elif opcao == 3:\n",
        "        removerPeca()\n",
        "    elif opcao == 4:\n",
        "        print(\"Saindo do programa...\")\n",
        "    else:\n",
        "        print(\"Opção inválida. Por favor, tente novamente.\")\n"
      ],
      "metadata": {
        "id": "YAsyFyglpikp",
        "colab": {
          "base_uri": "https://localhost:8080/"
        },
        "outputId": "afd77c93-2fbe-4786-d983-0b8a2ea9ae39"
      },
      "execution_count": null,
      "outputs": [
        {
          "output_type": "stream",
          "name": "stdout",
          "text": [
            "Bem-vindo ao controle da Bicicletaria do Moisés Silveira\n",
            "Menu Principal:\n",
            "1. Cadastrar Peça\n",
            "2. Consultar Peça\n",
            "3. Remover Peça\n",
            "4. Sair\n"
          ]
        }
      ]
    }
  ],
  "metadata": {
    "colab": {
      "collapsed_sections": [
        "TcAMTDyTlIIu",
        "DWzdDZ2IiUdM"
      ],
      "toc_visible": true,
      "provenance": [],
      "authorship_tag": "ABX9TyNTYqLEWnj7EfgKcG5Wmo7T",
      "include_colab_link": true
    },
    "kernelspec": {
      "display_name": "Python 3",
      "name": "python3"
    },
    "language_info": {
      "name": "python"
    }
  },
  "nbformat": 4,
  "nbformat_minor": 0
}